{
 "cells": [
  {
   "cell_type": "markdown",
   "metadata": {},
   "source": [
    "Módosított róka-nyúl (Lotka–Volterra-) probléma. \n",
    "\n",
    "A nyulak korlátlan szaporodása helyett vegyük figyelembe a terület véges eltartóképességét:helyettesítsük r-et rN(1−(N/K))-val.\n",
    "\n",
    "Vegyük figyelembe azt is, hogy ha a nyulak sokan vannak, a rókák csak véges számú nyulat tudnak elfogyasztani (az, hogy N-nel arányos a szaporodásuk, csak kis R-re érvényes). Helyettesítsük ezért NR-et NR/s+N-nel.\n",
    "\n",
    "A módosított róka-nyúl (Lotka-Volterra) probléma egyenletrendszere:\n",
    "$${\\dot{N}}=rN(1−(N/K))−bNR/(s+N)$$ $${\\dot{R}}=cNR/(s+N)−hR ,$$\n",
    "\n",
    "vagyis bőség (N≫1) esetén a rókák száma időegységenként (c−h)R-nyit változik.\n",
    "\n",
    "Vizsgáljuk a problémát numerikusan az $${\\dot{N}}=1.5N(1−(N/45))−5NR/(18+N)$$ $${\\dot{R}}=10NR/(18+N)−4R ,$$ dimenziótlan alakban. \n",
    "\n",
    "Hogyan függ a róka és a nyúl populáció létszáma az időtől,\n",
    "R0= 6, N0= 20, 18, ..., 10, 8 kezdeti populáció esetén? \n",
    "Mi a lényegi különbség a hagyományos róka-nyúl dinamikához képest?"
   ]
  },
  {
   "cell_type": "code",
   "execution_count": 51,
   "metadata": {},
   "outputs": [
    {
     "name": "stdout",
     "output_type": "stream",
     "text": [
      "Populating the interactive namespace from numpy and matplotlib\n"
     ]
    }
   ],
   "source": [
    "% pylab inline"
   ]
  },
  {
   "cell_type": "code",
   "execution_count": 52,
   "metadata": {
    "collapsed": true
   },
   "outputs": [],
   "source": [
    "N0=14\n",
    "R0=6\n",
    "dt=0.01\n",
    "n=640"
   ]
  },
  {
   "cell_type": "code",
   "execution_count": 53,
   "metadata": {
    "collapsed": true
   },
   "outputs": [],
   "source": [
    "t=[]                     # itt megadok egy tetszőleges struktúrát t-nek ami az idő lesz\n",
    "for i in range (0,n):    # for-ciklus azt csinálja, hogy 0-tól n-ig a t-be beírja azt, hogy dt*i. Így elég a dt-t változtatni ahhoz, hogy más időket adjunk meg\n",
    "    t.append(dt*i)       # dt=0.1 esetén most ez így néz ki: t=˙[0,0.1,0.2,0.3........n*0.1]\n"
   ]
  },
  {
   "cell_type": "code",
   "execution_count": 54,
   "metadata": {},
   "outputs": [
    {
     "data": {
      "text/plain": [
       "array([[ 14.,   0.,   0., ...,   0.,   0.,   0.],\n",
       "       [  0.,   0.,   0., ...,   0.,   0.,   0.],\n",
       "       [  6.,   0.,   0., ...,   0.,   0.,   0.],\n",
       "       [  0.,   0.,   0., ...,   0.,   0.,   0.]])"
      ]
     },
     "execution_count": 54,
     "metadata": {},
     "output_type": "execute_result"
    }
   ],
   "source": [
    "a=zeros((4,n))       # az a egy 4xn-es mátrix lesz, ahol a 4 oszlopban lesznek az N0-N'-R0-R' adatok.\n",
    "a[0,0]=N0            # a 0. (az első) oszlopba beírja az N0 eddigi elemeit\n",
    "a[1,0]=0             \n",
    "a[2,0]=R0\n",
    "a[3,0]=0\n",
    "a"
   ]
  },
  {
   "cell_type": "code",
   "execution_count": 55,
   "metadata": {},
   "outputs": [
    {
     "data": {
      "text/plain": [
       "[0.0, 0.0, 0.0, 0.0]"
      ]
     },
     "execution_count": 55,
     "metadata": {},
     "output_type": "execute_result"
    }
   ],
   "source": [
    "def sor (q):  # definiálom a sor függvényt. Ez azt fogja csinálni, hogy végigmegy a mátrix sorain majd, és elvégzi soronként az adott műveleteket.\n",
    "    s=[(0),(0),(0),(0)]  # az s az maga az adott sor lesz éppen, amire végrehajtja a műveletet, ez ugye 4 oszlopból áll.\n",
    "    s[0]=a[(0),(q-1)]+a[(1),(q-1)]*dt   # az adott sor (s) első eleme helyére beírjuk az Euler képletből mi jött ki N0-ra.\n",
    "    s[1]=a[(1),(q-1)]+(1.5*a[(0),(q-1)]*(1-(a[(0),(q-1)]/45))-(5*(a[(0),(q-1)]*a[(2),(q-1)]))/(18+a[(0),(q-1)]))*dt\n",
    "    s[2]=a[(2),(q-1)]+a[(3),(q-1)]*dt\n",
    "    s[3]=a[(3),(q-1)]+((10*(a[(0),(q-1)]*a[(2),(q-1)]))/(18+a[(0),(q-1)])-4*a[(2),(q-1)])*dt\n",
    "    return s   #és a függvény a legvégén visszaadja nekünk a kiszámolt értékeket.\n",
    "\n",
    "sor (2)  # ez egy példa, hogy a 2. sor a kezdeti paraméterek után hogy fog kinézni, ellenőrízhetjük, hogy működik-e."
   ]
  },
  {
   "cell_type": "code",
   "execution_count": 56,
   "metadata": {
    "collapsed": true
   },
   "outputs": [],
   "source": [
    "for i in range (1,n):  # egy újabb for-ciklus, ami most az a sorain megy végig, és hajtja végre a sor műveleteket. Itt fontos, hogy a 2. sor (1)-től menjen végig, mert a 1. sort már megadtuk, azt ne változtassa meg.\n",
    "    a[:,i]=[(sor(i)[0]),(sor(i)[1]),sor(i)[2],sor(i)[3]]"
   ]
  },
  {
   "cell_type": "code",
   "execution_count": 57,
   "metadata": {},
   "outputs": [
    {
     "data": {
      "text/plain": [
       "array([[  1.40000000e+01,   1.40000000e+01,   1.40001342e+01, ...,\n",
       "          5.78118640e+02,   5.99545660e+02,   6.20797305e+02],\n",
       "       [  0.00000000e+00,   1.34166667e-02,   2.68333333e-02, ...,\n",
       "          2.14270200e+03,   2.12516447e+03,   2.10200446e+03],\n",
       "       [  6.00000000e+00,   6.00000000e+00,   6.00022500e+00, ...,\n",
       "         -1.75700838e+03,  -1.80594171e+03,  -1.85587618e+03],\n",
       "       [  0.00000000e+00,   2.25000000e-02,   4.50000000e-02, ...,\n",
       "         -4.89333215e+03,  -4.99344731e+03,  -5.09653992e+03]])"
      ]
     },
     "execution_count": 57,
     "metadata": {},
     "output_type": "execute_result"
    }
   ],
   "source": [
    "a"
   ]
  },
  {
   "cell_type": "code",
   "execution_count": 58,
   "metadata": {
    "scrolled": true
   },
   "outputs": [
    {
     "data": {
      "text/plain": [
       "<matplotlib.legend.Legend at 0x6f3324f470>"
      ]
     },
     "execution_count": 58,
     "metadata": {},
     "output_type": "execute_result"
    },
    {
     "data": {
      "image/png": "[encoded data removed]",
      "text/plain": [
       "<matplotlib.figure.Figure at 0x6f331e2c88>"
      ]
     },
     "metadata": {},
     "output_type": "display_data"
    }
   ],
   "source": [
    "plot(t,a[0,:], label='nyul', linewidth=1) \n",
    "plot(t,a[2,:], label='roka', linewidth=1)\n",
    "legend()"
   ]
  },
  {
   "cell_type": "code",
   "execution_count": 59,
   "metadata": {
    "scrolled": true
   },
   "outputs": [
    {
     "data": {
      "text/plain": [
       "[<matplotlib.lines.Line2D at 0x6f332f8a58>]"
      ]
     },
     "execution_count": 59,
     "metadata": {},
     "output_type": "execute_result"
    },
    {
     "data": {
      "image/png": "[encoded data removed]",
      "text/plain": [
       "<matplotlib.figure.Figure at 0x6f3326dc18>"
      ]
     },
     "metadata": {},
     "output_type": "display_data"
    }
   ],
   "source": [
    "plot(a[0,:],a[2,:], linewidth=1) "
   ]
  },
  {
   "cell_type": "code",
   "execution_count": 61,
   "metadata": {},
   "outputs": [
    {
     "data": {
      "text/plain": [
       "-42.635531365782803"
      ]
     },
     "execution_count": 61,
     "metadata": {},
     "output_type": "execute_result"
    }
   ],
   "source": [
    "a[(0),(600)]"
   ]
  }
 ],
 "metadata": {
  "kernelspec": {
   "display_name": "Python 3",
   "language": "python",
   "name": "python3"
  },
  "language_info": {
   "codemirror_mode": {
    "name": "ipython",
    "version": 3
   },
   "file_extension": ".py",
   "mimetype": "text/x-python",
   "name": "python",
   "nbconvert_exporter": "python",
   "pygments_lexer": "ipython3",
   "version": "3.6.3"
  }
 },
 "nbformat": 4,
 "nbformat_minor": 2
}
